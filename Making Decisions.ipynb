{
 "cells": [
  {
   "cell_type": "markdown",
   "id": "fbbdfb91-78bf-44dc-b61d-e2f6c4fb1500",
   "metadata": {},
   "source": [
    "# Learn to Code by Solving Problems\n",
    "## Chapter 2 Making Decisions Notebook: Notes, Codes, and Solutions\n",
    "\n",
    "*By Artyom Mikoyan (Faustine)* | *April 2024*"
   ]
  },
  {
   "cell_type": "markdown",
   "id": "7e298ca1-135e-4199-ad9d-072c3affcfa1",
   "metadata": {},
   "source": [
    "#### Chapter Summary\n",
    "\n",
    "The chapter tackles the use of if statements direct as to what our programs do. The fundamental tool of if statements is the Boolean (a true or false expression value). We use relational operators such as \"==\" and \">=\", and boolean operators: as and or. Using Boolean values makes the direction of our programs more flexible and able to adapt to any situation at hand."
   ]
  },
  {
   "cell_type": "markdown",
   "id": "8a41f4cb-6784-4ab5-9f08-f91e02b28e4b",
   "metadata": {},
   "source": [
    "#### Contents\n",
    "\n",
    "- Conditional Expressions\n",
    "- The Boolean Type\n",
    "- Relational Operators\n",
    "- The if statement & if by Itself\n",
    "- if with elif\n",
    "- if with else\n",
    "- Concept CHeck\n",
    "- Problem Solving"
   ]
  },
  {
   "cell_type": "markdown",
   "id": "66dc0668-1240-4740-8957-42891df9d263",
   "metadata": {},
   "source": [
    "#### Conditional Execution\n",
    "\n",
    "A program must be capable of comparing values, two or more, and use the results of such a comparison to whoose whether to output a decided value based on those inputs.\n",
    "\n",
    "In Python, we can use the if statement to make these kinds of decisions. A condition is an expresssion that is true or false. The if statement uses conditions to know what to do. if statements lead to a conditional execution."
   ]
  },
  {
   "cell_type": "markdown",
   "id": "85524610-c257-4d7b-be15-a02d54809136",
   "metadata": {},
   "source": [
    "#### The Boolean Type"
   ]
  },
  {
   "cell_type": "markdown",
   "id": "81e8b5ca-aeab-449c-bb3f-a48f161fb91b",
   "metadata": {},
   "source": [
    "Using the type function tells us what type expression is our input"
   ]
  },
  {
   "cell_type": "code",
   "execution_count": 1,
   "id": "39b76516-f3ad-4276-904e-30ecf21da30d",
   "metadata": {},
   "outputs": [
    {
     "data": {
      "text/plain": [
       "int"
      ]
     },
     "execution_count": 1,
     "metadata": {},
     "output_type": "execute_result"
    }
   ],
   "source": [
    "type(14)"
   ]
  },
  {
   "cell_type": "code",
   "execution_count": 2,
   "id": "99df597d-fbab-4725-b4c8-d69882fdf664",
   "metadata": {},
   "outputs": [
    {
     "data": {
      "text/plain": [
       "float"
      ]
     },
     "execution_count": 2,
     "metadata": {},
     "output_type": "execute_result"
    }
   ],
   "source": [
    "type(9.5)"
   ]
  },
  {
   "cell_type": "code",
   "execution_count": 3,
   "id": "711bd4ab-979e-4ee0-910a-177498239145",
   "metadata": {},
   "outputs": [
    {
     "data": {
      "text/plain": [
       "str"
      ]
     },
     "execution_count": 3,
     "metadata": {},
     "output_type": "execute_result"
    }
   ],
   "source": [
    "type('hello')"
   ]
  },
  {
   "cell_type": "markdown",
   "id": "cf451def-8c32-4a7c-85d3-baaed63c4b61",
   "metadata": {},
   "source": [
    "The Boolean (bool) type has only two values: True or False. These values represent the results of given condition"
   ]
  },
  {
   "cell_type": "code",
   "execution_count": 4,
   "id": "40c768c0-2983-43ef-8ee6-ee413a0dba03",
   "metadata": {},
   "outputs": [
    {
     "data": {
      "text/plain": [
       "True"
      ]
     },
     "execution_count": 4,
     "metadata": {},
     "output_type": "execute_result"
    }
   ],
   "source": [
    "True"
   ]
  },
  {
   "cell_type": "markdown",
   "id": "618352e4-8765-498f-a802-4601dd8d3f6c",
   "metadata": {},
   "source": [
    "False"
   ]
  },
  {
   "cell_type": "code",
   "execution_count": 6,
   "id": "cc6e8568-0772-4b78-b510-0f147c40cd28",
   "metadata": {},
   "outputs": [
    {
     "data": {
      "text/plain": [
       "bool"
      ]
     },
     "execution_count": 6,
     "metadata": {},
     "output_type": "execute_result"
    }
   ],
   "source": [
    "type(True)"
   ]
  },
  {
   "cell_type": "code",
   "execution_count": 7,
   "id": "2968e0ce-8899-4ac6-a8e0-bde67ad738f4",
   "metadata": {},
   "outputs": [
    {
     "data": {
      "text/plain": [
       "bool"
      ]
     },
     "execution_count": 7,
     "metadata": {},
     "output_type": "execute_result"
    }
   ],
   "source": [
    "type(False)"
   ]
  },
  {
   "cell_type": "markdown",
   "id": "db78280a-71a0-4e79-807e-60575ea42dbc",
   "metadata": {},
   "source": [
    "#### Relational Operators\n",
    "\n",
    "Is value a less than value b?  These questions and comparisons can be done by using relational opeartors in Python. These comparisons lead to True or False values and are used in Boolean expressions.\n",
    "\n",
    "Using the operators > and < takes two operands and returns True if the first is greater than the second, and False if otherwise. The same idea holds for the less-than symbol. There also exist the greater than or equal and the less than or equal to operators.\n",
    "\n",
    "To asses equality we use the == operator. For Inequality use the != operator. The equality operator looks into cases, which matter in terms of equality.\n",
    "While the inequality operator returns True if the two values are not equal and false if they are equal"
   ]
  },
  {
   "cell_type": "code",
   "execution_count": 11,
   "id": "c5562d5b-5362-48c6-aab5-2de4ad5cb240",
   "metadata": {},
   "outputs": [
    {
     "data": {
      "text/plain": [
       "True"
      ]
     },
     "execution_count": 11,
     "metadata": {},
     "output_type": "execute_result"
    }
   ],
   "source": [
    "4 > 2"
   ]
  },
  {
   "cell_type": "code",
   "execution_count": 12,
   "id": "661e840c-251f-4983-8f3d-80f6c2c5853a",
   "metadata": {},
   "outputs": [
    {
     "data": {
      "text/plain": [
       "False"
      ]
     },
     "execution_count": 12,
     "metadata": {},
     "output_type": "execute_result"
    }
   ],
   "source": [
    "9 > 10"
   ]
  },
  {
   "cell_type": "code",
   "execution_count": 13,
   "id": "d64977ee-0a0f-45e0-838d-d2b4178115e8",
   "metadata": {},
   "outputs": [
    {
     "data": {
      "text/plain": [
       "False"
      ]
     },
     "execution_count": 13,
     "metadata": {},
     "output_type": "execute_result"
    }
   ],
   "source": [
    "4 < 1"
   ]
  },
  {
   "cell_type": "code",
   "execution_count": 14,
   "id": "005e7826-4523-4168-8fa5-6add9b98c7d9",
   "metadata": {},
   "outputs": [
    {
     "data": {
      "text/plain": [
       "True"
      ]
     },
     "execution_count": 14,
     "metadata": {},
     "output_type": "execute_result"
    }
   ],
   "source": [
    "-2 < 0"
   ]
  },
  {
   "cell_type": "code",
   "execution_count": 15,
   "id": "857ce555-0266-40e0-919e-5845bf34e167",
   "metadata": {},
   "outputs": [
    {
     "data": {
      "text/plain": [
       "True"
      ]
     },
     "execution_count": 15,
     "metadata": {},
     "output_type": "execute_result"
    }
   ],
   "source": [
    "4 >= 2"
   ]
  },
  {
   "cell_type": "code",
   "execution_count": 16,
   "id": "3631ea07-d349-43c6-b0c3-47a3c1de1238",
   "metadata": {},
   "outputs": [
    {
     "data": {
      "text/plain": [
       "True"
      ]
     },
     "execution_count": 16,
     "metadata": {},
     "output_type": "execute_result"
    }
   ],
   "source": [
    "4 >= 4"
   ]
  },
  {
   "cell_type": "code",
   "execution_count": 17,
   "id": "9cebeab3-04ff-40c8-8765-70f38c6de09b",
   "metadata": {},
   "outputs": [
    {
     "data": {
      "text/plain": [
       "False"
      ]
     },
     "execution_count": 17,
     "metadata": {},
     "output_type": "execute_result"
    }
   ],
   "source": [
    "4 >= 5"
   ]
  },
  {
   "cell_type": "code",
   "execution_count": 18,
   "id": "97884395-fdc4-47f1-a3d7-4c50c2bd0a32",
   "metadata": {},
   "outputs": [
    {
     "data": {
      "text/plain": [
       "True"
      ]
     },
     "execution_count": 18,
     "metadata": {},
     "output_type": "execute_result"
    }
   ],
   "source": [
    "5 == 5"
   ]
  },
  {
   "cell_type": "code",
   "execution_count": 19,
   "id": "fc12e1f5-dd8e-4fb6-af47-8f5a1be8e9e7",
   "metadata": {},
   "outputs": [
    {
     "data": {
      "text/plain": [
       "False"
      ]
     },
     "execution_count": 19,
     "metadata": {},
     "output_type": "execute_result"
    }
   ],
   "source": [
    "15 == 10"
   ]
  },
  {
   "cell_type": "code",
   "execution_count": 20,
   "id": "4f8dcf06-7333-4cd9-8f5c-dea8c361c03d",
   "metadata": {},
   "outputs": [
    {
     "data": {
      "text/plain": [
       "False"
      ]
     },
     "execution_count": 20,
     "metadata": {},
     "output_type": "execute_result"
    }
   ],
   "source": [
    "5 != 5"
   ]
  },
  {
   "cell_type": "code",
   "execution_count": 21,
   "id": "21908c75-637e-4848-b387-76d4d38e7dea",
   "metadata": {},
   "outputs": [
    {
     "data": {
      "text/plain": [
       "True"
      ]
     },
     "execution_count": 21,
     "metadata": {},
     "output_type": "execute_result"
    }
   ],
   "source": [
    "15 != 10"
   ]
  },
  {
   "cell_type": "code",
   "execution_count": 5,
   "id": "3351c911-651a-4473-938d-4c19ed9a3718",
   "metadata": {},
   "outputs": [
    {
     "data": {
      "text/plain": [
       "True"
      ]
     },
     "execution_count": 5,
     "metadata": {},
     "output_type": "execute_result"
    }
   ],
   "source": [
    "'hello' == 'hello'"
   ]
  },
  {
   "cell_type": "code",
   "execution_count": 24,
   "id": "d32a372a-fb37-4c90-8802-0e3b8623aeec",
   "metadata": {},
   "outputs": [
    {
     "data": {
      "text/plain": [
       "False"
      ]
     },
     "execution_count": 24,
     "metadata": {},
     "output_type": "execute_result"
    }
   ],
   "source": [
    "'hello' == 'Hello'"
   ]
  },
  {
   "cell_type": "markdown",
   "id": "4b2912bf-489b-437f-875c-5380748e54a1",
   "metadata": {},
   "source": [
    "Another important operator is the in operator which works with strings but not numbers."
   ]
  },
  {
   "cell_type": "code",
   "execution_count": 25,
   "id": "1d115b80-2f62-4ec4-80f1-9d5cf93b8a18",
   "metadata": {},
   "outputs": [
    {
     "data": {
      "text/plain": [
       "True"
      ]
     },
     "execution_count": 25,
     "metadata": {},
     "output_type": "execute_result"
    }
   ],
   "source": [
    "'ppl' in 'apple'"
   ]
  },
  {
   "cell_type": "code",
   "execution_count": 26,
   "id": "315c79b3-f219-4dcc-8c4f-423f134e27ab",
   "metadata": {},
   "outputs": [
    {
     "data": {
      "text/plain": [
       "False"
      ]
     },
     "execution_count": 26,
     "metadata": {},
     "output_type": "execute_result"
    }
   ],
   "source": [
    "'us' in 'love'"
   ]
  },
  {
   "cell_type": "markdown",
   "id": "1030d512-2c81-4bab-b6ed-61013b9ad72e",
   "metadata": {},
   "source": [
    "#### The if statement & if by Itself"
   ]
  },
  {
   "cell_type": "markdown",
   "id": "8cd84b8d-bfc1-4775-8c5a-a3872d3f0f90",
   "metadata": {},
   "source": [
    "An if statement begins with the keyword if and is followed by a Boolean eexpression, then by a colon, and by one or more indented statements."
   ]
  },
  {
   "cell_type": "code",
   "execution_count": 27,
   "id": "6af41f5f-4e37-4057-8005-4b618ed7181e",
   "metadata": {},
   "outputs": [
    {
     "name": "stdout",
     "output_type": "stream",
     "text": [
      "A\n"
     ]
    }
   ],
   "source": [
    "apple_total = 20\n",
    "banana_total = 6\n",
    "\n",
    "if apple_total > banana_total:\n",
    "    print('A')"
   ]
  },
  {
   "cell_type": "code",
   "execution_count": 28,
   "id": "6d75230f-4fc1-4242-97d7-87cdb8f242f7",
   "metadata": {},
   "outputs": [
    {
     "name": "stdout",
     "output_type": "stream",
     "text": [
      "A\n",
      "Apple wins!\n"
     ]
    }
   ],
   "source": [
    "apple_total = 20\n",
    "banana_total = 6\n",
    "\n",
    "if apple_total > banana_total:\n",
    "    print('A')\n",
    "    print('Apple wins!')"
   ]
  },
  {
   "cell_type": "markdown",
   "id": "ad668b16-058a-4129-a99e-be861dc99453",
   "metadata": {},
   "source": [
    "Testing out now for a boolean leading to a False output:"
   ]
  },
  {
   "cell_type": "code",
   "execution_count": 30,
   "id": "d38b3ea7-905d-4ee0-b00f-482ba6f28c54",
   "metadata": {},
   "outputs": [
    {
     "name": "stdout",
     "output_type": "stream",
     "text": [
      "A\n",
      "Apple wins!\n"
     ]
    }
   ],
   "source": [
    "apple_total = 20\n",
    "banana_total = 6\n",
    "\n",
    "if apple_total > banana_total:\n",
    "    print('A')\n",
    "    print('Apple wins!')"
   ]
  },
  {
   "cell_type": "code",
   "execution_count": 31,
   "id": "4ae946e2-ac5f-472d-894e-a530c3453950",
   "metadata": {},
   "outputs": [],
   "source": [
    "apple_total = 20\n",
    "banana_total = 60\n",
    "\n",
    "if apple_total > banana_total:\n",
    "    print('A')\n",
    "    print('Apple wins!')"
   ]
  },
  {
   "cell_type": "markdown",
   "id": "88ec908f-8307-4410-9693-863d4ff24091",
   "metadata": {},
   "source": [
    "No output is given since none of the conditions are met."
   ]
  },
  {
   "cell_type": "markdown",
   "id": "15c95ceb-e7c3-41eb-9b1a-e6740bc6f5e5",
   "metadata": {},
   "source": [
    "#### if with elif"
   ]
  },
  {
   "cell_type": "markdown",
   "id": "c4aa2e94-b92b-4b1d-891b-4159ca1d6d05",
   "metadata": {},
   "source": [
    "Using successive statements for a desired output is also possible. Using an if statement after another, they become independent. Each Boolean expression is, thefore, evaluated."
   ]
  },
  {
   "cell_type": "code",
   "execution_count": 32,
   "id": "4af5ef1f-37a6-49cc-a853-9b323044121d",
   "metadata": {},
   "outputs": [
    {
     "name": "stdout",
     "output_type": "stream",
     "text": [
      "T\n"
     ]
    }
   ],
   "source": [
    "apple_total = 6\n",
    "banana_total = 6\n",
    "\n",
    "if apple_total > banana_total:\n",
    "    print('A')\n",
    "\n",
    "if banana_total > apple_total:\n",
    "    print('B')\n",
    "\n",
    "if apple_total == banana_total:\n",
    "    print('T')"
   ]
  },
  {
   "cell_type": "markdown",
   "id": "85ad49b0-4fff-4d5e-b0f3-bab1d0383904",
   "metadata": {},
   "source": [
    "The first two blocks of if statements are skipped because they are False. "
   ]
  },
  {
   "cell_type": "code",
   "execution_count": 33,
   "id": "691be4bb-3866-4651-911c-4bf8b7aa9b97",
   "metadata": {},
   "outputs": [
    {
     "name": "stdout",
     "output_type": "stream",
     "text": [
      "T\n"
     ]
    }
   ],
   "source": [
    "if apple_total > banana_total:\n",
    "    print('A')\n",
    "\n",
    "elif banana_total > apple_total:\n",
    "    print('B')\n",
    "\n",
    "elif apple_total == banana_total:\n",
    "    print('T')"
   ]
  },
  {
   "cell_type": "markdown",
   "id": "c50a29d9-b37a-4332-bc5a-6a122118092c",
   "metadata": {},
   "source": [
    "#### if with else"
   ]
  },
  {
   "cell_type": "markdown",
   "id": "ef08b181-bda5-48bc-bd1a-f52cb7b7f84e",
   "metadata": {},
   "source": [
    "The else is another keyword to use if all Boolean expression in the if statement are False!"
   ]
  },
  {
   "cell_type": "code",
   "execution_count": null,
   "id": "8c5ce951-7e87-4c12-a696-f331dfdc2634",
   "metadata": {},
   "outputs": [],
   "source": [
    "if apple_total > banana_total:\n",
    "    print('A')\n",
    "\n",
    "elif banana_total > apple_total:\n",
    "    print('B')\n",
    "\n",
    "else:\n",
    "    print('T')"
   ]
  },
  {
   "cell_type": "markdown",
   "id": "31c153d1-5d29-449c-81bd-be9ac0aec121",
   "metadata": {},
   "source": [
    "In Python, a set of Boolean expressions are evaluated from top to bottom. If found true for most of them, python runs that block and skips the rest of the if statement. If all expressions re found to be False, Python executes the else block! Therefore, is all upper blocks leads to a False, and none of them are found to be true (just in the case of the cell above), Python runs the else block."
   ]
  },
  {
   "cell_type": "markdown",
   "id": "b39807fc-9dbe-40b6-aff5-98006d97f7f4",
   "metadata": {},
   "source": [
    "#### Concept Check"
   ]
  },
  {
   "cell_type": "markdown",
   "id": "4048bf65-7115-4dfa-a47f-bc21a3909caf",
   "metadata": {},
   "source": [
    "1. What is the value of x after the following code runs?"
   ]
  },
  {
   "cell_type": "markdown",
   "id": "f2d578b1-d081-43bd-912e-1d83d7f2c632",
   "metadata": {},
   "source": [
    "x = 5\n",
    "if x > 2:\n",
    "    x = -3\n",
    "if x > 1:\n",
    "    x = 1\n",
    "else:\n",
    "    x = 3"
   ]
  },
  {
   "cell_type": "markdown",
   "id": "1dcdf93a-b020-4dc6-861b-4c7f0da8829d",
   "metadata": {},
   "source": [
    "Solution: since the first if block this is the statement that executes"
   ]
  },
  {
   "cell_type": "markdown",
   "id": "ebea867a-d6cb-4f90-894c-df085df6ab76",
   "metadata": {},
   "source": [
    "#### Problem Solving: Winning Score\r\n",
    "\r\n",
    "**DMOP problem ccc19j1**\r\n",
    "\r\n",
    "You record all of the scoring activity at a basketball game. Points are scored by a 3 point shot, a 2 point field goal, or a 1 point free throw.\r\n",
    "\r\n",
    "You know the number of each of these types of scoring for the two teams: the Apples and the Bananas. Your job is to determine which team won, or if the game ended in a tie.\r\n",
    "\r\n",
    "**Input Specification**\r\n",
    "\r\n",
    "The first three lines of input describe the scoring of the Apples, and the next three lines of input describe the scoring of the Bananas. For each team, the first line contains the number of successful 3 point shots, the second line contains the number of successful 2 point field goals, and the third line contains the number of successful 1 point free throws. Each number will be an integer between 0 and 100, inclusive.\r\n",
    "\r\n",
    "**Output Specification**\r\n",
    "\r\n",
    "The output will be a single character. If the Apples scored more points than the Bananas, output A. If the Bananas scored more points than the Apples, output B. Otherwise, output T, to indicate a tie.\r\n",
    "sive.tie.\n"
   ]
  },
  {
   "cell_type": "markdown",
   "id": "84603f94-b065-46b1-8e3a-c380509b90df",
   "metadata": {},
   "source": [
    "**Solution**"
   ]
  },
  {
   "cell_type": "code",
   "execution_count": 2,
   "id": "567c27a6-b3e8-4262-a475-6324912fd0d1",
   "metadata": {},
   "outputs": [
    {
     "name": "stdin",
     "output_type": "stream",
     "text": [
      " 1\n",
      " 2\n",
      " 3\n",
      " 1\n",
      " 2\n",
      " 3\n"
     ]
    },
    {
     "name": "stdout",
     "output_type": "stream",
     "text": [
      "It is a TIE!\n"
     ]
    }
   ],
   "source": [
    "apple_three = int(input())\n",
    "apple_two = int(input())\n",
    "apple_one = int(input())\n",
    "\n",
    "banana_three = int(input())\n",
    "banana_two = int(input())\n",
    "banana_one = int(input())\n",
    "\n",
    "apple_total_score = 3 * apple_three + 2 * apple_two + apple_one\n",
    "banana_total_score = 3 * banana_three + 2 * banana_two + banana_one\n",
    "\n",
    "if apple_total_score > banana_total_score:\n",
    "    print('A Wins!')\n",
    "elif banana_total_score > apple_total_score:\n",
    "    print('B Wins!')\n",
    "else:\n",
    "    print('It is a TIE!')"
   ]
  },
  {
   "cell_type": "markdown",
   "id": "48d6c7b8-f2d3-412a-8e1d-144170fca919",
   "metadata": {},
   "source": [
    "#### Problem Solving: Telemarketers Problem\r\n",
    "\r\n",
    "**DMOJ Problem ccc18j1**\r\n",
    "\r\n",
    "Here at the Concerned Citizens of Commerce (CCC), we have noted that telemarketers like to use seven-digit phone numbers where the last four digits have three properties. Looking just at the last four digits, these properties are:\r\n",
    "\r\n",
    "- the first of these four digits is an 8 or 9;\r\n",
    "- the last digit is an 8 or 9;\r\n",
    "- the second and third digits are the same.\r\n",
    "\r\n",
    "For example, if the last four digits of the telephone number are 8229, 8338, or 9008, these are telemarketer numbers.\r\n",
    "\r\n",
    "Write a program to decide if a telephone number is a telemarketer number or not, based on the last four digits. If the number is not a telemarketer number, we should answer the phone, and otherwise, we should ignore it.\r\n",
    "\r\n",
    "**Input Specification**\r\n",
    "\r\n",
    "The input will be 4 lines where each line contains exactly one digit in the range from 0 to 9.\r\n",
    "\r\n",
    "**Output Specification**\r\n",
    "\r\n",
    "Output either \"ignore\" if the number matches the pattern for a telemarketer number; otherwise, output \"answer\".\r\n",
    "\r\n",
    "fication**\n",
    "\n"
   ]
  },
  {
   "cell_type": "markdown",
   "id": "55df20a4-21ad-4034-b4b3-d4399fe20de7",
   "metadata": {},
   "source": [
    "**Solution**"
   ]
  },
  {
   "cell_type": "code",
   "execution_count": 8,
   "id": "49f9c9f9-3099-4de1-ae15-50d7f8c15277",
   "metadata": {},
   "outputs": [
    {
     "name": "stdin",
     "output_type": "stream",
     "text": [
      " 9\n",
      " 6\n",
      " 6\n",
      " 8\n"
     ]
    },
    {
     "name": "stdout",
     "output_type": "stream",
     "text": [
      "Ignore\n"
     ]
    }
   ],
   "source": [
    "num1 = int(input())\n",
    "num2 = int(input())\n",
    "num3 = int(input())\n",
    "num4 = int(input())\n",
    "\n",
    "if ((num1 == 8 or num1 == 9)\n",
    "     and (num4 == 8 or num4 == 9) \n",
    "     and (num2 == num3)):\n",
    "    print('Ignore')\n",
    "else:\n",
    "    print('answer')"
   ]
  },
  {
   "cell_type": "markdown",
   "id": "335d1af0-5a80-4075-b462-322da21bbdfd",
   "metadata": {},
   "source": [
    "In this we also used Boolean operators **or** & **and**. We store them inside a parenthesis at the time the **and's** are separated yet again by a parenthesis and the **or** operator."
   ]
  },
  {
   "cell_type": "markdown",
   "id": "1470b5c1-608d-4834-a56b-169aaac9e7c9",
   "metadata": {},
   "source": [
    "#### Summary\n",
    "\n",
    "if statements allow us to direct what programs do. An important notion in if statements is a Boolean expression. A Boolean expression uses relational operators which leads up to the values of True or False. If statements allows for our programs to make decisions based off factors in our if statements."
   ]
  },
  {
   "cell_type": "markdown",
   "id": "ad1fe3ba-5974-4138-9e0b-cd7fa6edc7e8",
   "metadata": {},
   "source": [
    "### Additional DMOJ PROBLEMS:"
   ]
  },
  {
   "cell_type": "code",
   "execution_count": null,
   "id": "3ca77280-0a5b-4c5f-a47b-e397f80d026d",
   "metadata": {},
   "outputs": [],
   "source": []
  }
 ],
 "metadata": {
  "kernelspec": {
   "display_name": "Python 3 (ipykernel)",
   "language": "python",
   "name": "python3"
  },
  "language_info": {
   "codemirror_mode": {
    "name": "ipython",
    "version": 3
   },
   "file_extension": ".py",
   "mimetype": "text/x-python",
   "name": "python",
   "nbconvert_exporter": "python",
   "pygments_lexer": "ipython3",
   "version": "3.11.7"
  }
 },
 "nbformat": 4,
 "nbformat_minor": 5
}

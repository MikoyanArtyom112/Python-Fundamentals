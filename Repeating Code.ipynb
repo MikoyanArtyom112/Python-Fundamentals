{
 "cells": [
  {
   "cell_type": "markdown",
   "id": "f82261a5-5451-4bcd-a29a-f6e15559ac81",
   "metadata": {},
   "source": [
    "# Learn to Code by Solving Problems\n",
    "## Chapter 3 Repeating Code: Definite Loop; Notes, Codes, and Solutions\n",
    "\n",
    "*By Artyom Mikoyan (Faustine)* | *April 2024*"
   ]
  },
  {
   "cell_type": "markdown",
   "id": "d589ab9a-56b5-42de-af31-b428f35c5342",
   "metadata": {},
   "source": [
    "#### Chapter Summary\n",
    "\n",
    "#### Contents\n",
    "\n",
    "- Why Loops?\n",
    "- for Loops\n",
    "- Nesting\n",
    "- A New Kind of Loop\n",
    "- Indexing\n",
    "- Range for loops\n",
    "- Range for Loops Through Indices\n",
    "- Looping to Read Input\n"
   ]
  },
  {
   "cell_type": "markdown",
   "id": "83b56284-ae0f-4e06-b8ec-c6459558d44e",
   "metadata": {},
   "source": [
    "#### Introduction\n",
    "\n",
    "The ability of programs, and computers, to do the same thing again and again, be it hundreds to a billion times, is an amazing processing feat. A part of this iteration, repetition, or cycle in Python is the use of loops. Loops are statements that instruct the computer to repeat the execution of part of a program we have made."
   ]
  },
  {
   "cell_type": "markdown",
   "id": "62d80bfd-9dc4-40cd-95f2-3d5342118961",
   "metadata": {},
   "source": [
    "#### Why Loops?"
   ]
  },
  {
   "cell_type": "markdown",
   "id": "bec5c902-295b-47f6-ad5f-e293cfac6abc",
   "metadata": {},
   "source": [
    "In Python, loops are used to repeat a block of code multiple times. They are essential for automating repetitive tasks and processing large amounts of data efficiently.\n",
    "\n",
    "What makes Loops good?\r\n",
    "1. **Efficiency**: Instead of writing the same code over and over again, you can use loops to execute a block of code multiple times with different inputs.\r\n",
    "\r\n",
    "2. **Reduced Code Length**: Loops help in writing concise and readable code by eliminating redundancy. This makes your code easier to understand and maintain.\r\n",
    "\r\n",
    "3. **Flexibility**: Loops allow you to iterate over a sequence of elements, such as lists, strings, or ranges, performing the same operation on each item. This makes it easy to apply the same logic to different data.\r\n",
    "\r\n",
    "4. **Automation**: With loops, you can automate repetitive tasks like data processing, file handling, or generating reports. This saves time and effort, especially when dealing with large datasets.\r\n",
    "\n"
   ]
  },
  {
   "cell_type": "markdown",
   "id": "f40e7fd4-6e66-4494-99d4-f00923566a72",
   "metadata": {},
   "source": [
    "#### for Loops"
   ]
  },
  {
   "cell_type": "code",
   "execution_count": 19,
   "id": "20ab44d5-ddbf-4df8-9f63-2f99255e4c57",
   "metadata": {},
   "outputs": [
    {
     "name": "stdout",
     "output_type": "stream",
     "text": [
      "Letter: o\n",
      "Letter: l\n",
      "Letter: i\n",
      "Letter: v\n",
      "Letter: e\n"
     ]
    }
   ],
   "source": [
    "secret_word = \"olive\"\n",
    "\n",
    "for a in secret_word:\n",
    "    print('Letter: '+ a)"
   ]
  },
  {
   "cell_type": "markdown",
   "id": "87d6ac7a-d6e5-4b10-b5e2-5c3385a37dd3",
   "metadata": {},
   "source": [
    "Right after the keyword for, we write the name of our chosen loop variable. For this instance, it was named the letter 'a'. In a for loop on a string, the loop refers to each of the string's character as the output. Like if statements, the for line ends with a colon. "
   ]
  },
  {
   "cell_type": "code",
   "execution_count": 4,
   "id": "3d56a54f-6939-4b8c-83bc-e6f29608bd9a",
   "metadata": {},
   "outputs": [
    {
     "name": "stdout",
     "output_type": "stream",
     "text": [
      "Letter: o\n",
      "*\n",
      "Letter: l\n",
      "*\n",
      "Letter: i\n",
      "*\n",
      "Letter: v\n",
      "*\n",
      "Letter: e\n",
      "*\n"
     ]
    }
   ],
   "source": [
    "secret_word = \"olive\"\n",
    "for a in secret_word:\n",
    "    print('Letter: '+ a)\n",
    "    print('*')"
   ]
  },
  {
   "cell_type": "markdown",
   "id": "acb39f58-f321-4f6b-83e9-ac8c475576d6",
   "metadata": {},
   "source": [
    "We can visibly see the iteration of the for loop by being able to see that the statement runs again and again printing each letter and followed by another asterisk symbol."
   ]
  },
  {
   "cell_type": "code",
   "execution_count": 11,
   "id": "60095a44-9153-42f6-9f2c-09140b8b779d",
   "metadata": {},
   "outputs": [
    {
     "name": "stdout",
     "output_type": "stream",
     "text": [
      "6 iterations coming up for my beloved!\n",
      "Letters: A\n",
      "Letters: i\n",
      "Letters: l\n",
      "Letters: e\n",
      "Letters: e\n",
      "Letters: n\n"
     ]
    }
   ],
   "source": [
    "secret_words ='Aileen'\n",
    "print(len(secret_words), 'iterations coming up for my beloved!')\n",
    "\n",
    "for char1 in secret_words:\n",
    "    print('Letters: '+ char1)"
   ]
  },
  {
   "cell_type": "markdown",
   "id": "83753d32-0a3b-40a7-912c-da6243306489",
   "metadata": {},
   "source": [
    "**Concept Check**"
   ]
  },
  {
   "cell_type": "code",
   "execution_count": 12,
   "id": "d69d5d66-51d1-4888-8f5e-3f639bdadc78",
   "metadata": {},
   "outputs": [
    {
     "name": "stdout",
     "output_type": "stream",
     "text": [
      "10\n"
     ]
    }
   ],
   "source": [
    "s ='garage'\n",
    "total = 0\n",
    "\n",
    "for char in s:\n",
    "    total = total + s.count(char)\n",
    "\n",
    "print(total)"
   ]
  },
  {
   "cell_type": "markdown",
   "id": "e15dfd4e-836c-4a5c-bb9e-03a6425788e0",
   "metadata": {},
   "source": [
    "#### Nesting"
   ]
  },
  {
   "cell_type": "markdown",
   "id": "2323b1f0-45f5-4e25-8af8-8eb8db9b83f7",
   "metadata": {},
   "source": [
    "For a for loop block is can consist of one or more statements. these statments can be functions calls or assignment statements, and they can be one-line assesment. for loop blocks can also contain multiline statements such as if statements and loops."
   ]
  },
  {
   "cell_type": "code",
   "execution_count": 21,
   "id": "d2975506-c10c-43f3-b83d-36559d002aaa",
   "metadata": {},
   "outputs": [
    {
     "name": "stdout",
     "output_type": "stream",
     "text": [
      "N\n",
      "L\n",
      "V\n",
      "T\n"
     ]
    }
   ],
   "source": [
    "title = \"Nymphomaniac by Lars Von Trier\"\n",
    "\n",
    "for char in title:\n",
    "    if char.isupper():\n",
    "        print(char)"
   ]
  },
  {
   "cell_type": "code",
   "execution_count": 22,
   "id": "b9c93f1e-d45b-4353-99f2-01053c8ed0a3",
   "metadata": {},
   "outputs": [
    {
     "name": "stdout",
     "output_type": "stream",
     "text": [
      "A1\n",
      "A2\n",
      "A3\n",
      "B1\n",
      "B2\n",
      "B3\n",
      "C1\n",
      "C2\n",
      "C3\n"
     ]
    }
   ],
   "source": [
    "letters = 'ABC'\n",
    "digits ='123'\n",
    "\n",
    "for letter in letters:\n",
    "    for digit in digits:\n",
    "        print(letter + digit)"
   ]
  },
  {
   "cell_type": "markdown",
   "id": "08a0f7c1-b176-4649-9481-d3128a9a6615",
   "metadata": {},
   "source": [
    "The code produces all two-character strings whose first character is from letter and whose second character is from digits."
   ]
  },
  {
   "cell_type": "markdown",
   "id": "543d650e-6f55-4c8c-b76c-737f08c83f0d",
   "metadata": {},
   "source": [
    "**Concept Check**\n",
    "\n",
    "what is the input of the following code?"
   ]
  },
  {
   "cell_type": "code",
   "execution_count": 25,
   "id": "496deb7e-7e6c-4cbf-a897-7b68b8ec53dd",
   "metadata": {},
   "outputs": [
    {
     "name": "stdout",
     "output_type": "stream",
     "text": [
      "100\n"
     ]
    }
   ],
   "source": [
    "title = 'The Escape'\n",
    "total = 0\n",
    "\n",
    "for char1 in title:\n",
    "    for char2 in title:\n",
    "           total = total + 1\n",
    " \n",
    "\n",
    "print(total)"
   ]
  },
  {
   "cell_type": "code",
   "execution_count": 32,
   "id": "1e49913c-20e5-4a13-8f1f-17b0d2b67b95",
   "metadata": {},
   "outputs": [
    {
     "name": "stdin",
     "output_type": "stream",
     "text": [
      " C\n",
      " 3\n"
     ]
    },
    {
     "name": "stdout",
     "output_type": "stream",
     "text": [
      "1\n"
     ]
    }
   ],
   "source": [
    "swaps = input()\n",
    "ball_location = int(input())\n",
    "\n",
    "for swap_type in swaps:\n",
    "    if swap_type == 'A' and ball_location == 1:\n",
    "        ball_location = 2\n",
    "    elif swap_type == 'A' and ball_location == 2:\n",
    "        ball_location = 1\n",
    "    elif swap_type == 'B' and ball_location == 2:\n",
    "        ball_location = 3\n",
    "    elif swap_type == 'B' and ball_location == 3:\n",
    "            ball_location = 2\n",
    "    elif swap_type == 'C' and ball_location == 1:\n",
    "        ball_location = 3\n",
    "    elif swap_type == 'C' and ball_location == 3:\n",
    "        ball_location = 1\n",
    "        \n",
    "print(ball_location)"
   ]
  },
  {
   "cell_type": "markdown",
   "id": "f98cc966-2ef0-4a3d-8cbe-d8339e48965c",
   "metadata": {},
   "source": [
    "This here is a very good example of a nested if statements using for loops. Instead of writing different lines of if statements, the if and elif branches each encode as to what happens in each swaps."
   ]
  },
  {
   "cell_type": "markdown",
   "id": "568f004e-865f-4a60-afed-d7234928dadd",
   "metadata": {},
   "source": [
    "#### A New Kind of Loop\n",
    "\n",
    "Looping through the characters of one string doesn't help us find the corresponding characters in the other string. But if we could keep track of where we were in the string that would be really good. One way of doing this is by indexing."
   ]
  },
  {
   "cell_type": "code",
   "execution_count": 1,
   "id": "0d58375b-6c61-4f14-8bbd-4ff8774a0eba",
   "metadata": {},
   "outputs": [
    {
     "name": "stdout",
     "output_type": "stream",
     "text": [
      "The space is C\n",
      "The space is C\n",
      "The space is .\n"
     ]
    }
   ],
   "source": [
    "yesterday = 'CC.'\n",
    "\n",
    "for parking_space in yesterday:\n",
    "    print('The space is ' + parking_space)"
   ]
  },
  {
   "cell_type": "markdown",
   "id": "64a7fbda-be0e-4faf-8be6-6a3fdc4d73e3",
   "metadata": {},
   "source": [
    "#### Indexing\n",
    "\n",
    "When inexing we are able to discern the location of a particular character in a string by its index count. In Python, index count begins at zero. Python is also known as 'indexed-based-position' for its characters or elements in its sets. "
   ]
  },
  {
   "cell_type": "code",
   "execution_count": 4,
   "id": "d5219c64-f3c0-4c83-85f9-f60fe3c7ac5c",
   "metadata": {},
   "outputs": [
    {
     "data": {
      "text/plain": [
       "'s'"
      ]
     },
     "execution_count": 4,
     "metadata": {},
     "output_type": "execute_result"
    }
   ],
   "source": [
    "word = 'splore'\n",
    "\n",
    "word[0]"
   ]
  },
  {
   "cell_type": "code",
   "execution_count": 5,
   "id": "dba9c390-48c8-48ab-95e5-97b2549d46d9",
   "metadata": {},
   "outputs": [
    {
     "data": {
      "text/plain": [
       "'p'"
      ]
     },
     "execution_count": 5,
     "metadata": {},
     "output_type": "execute_result"
    }
   ],
   "source": [
    "word[1]"
   ]
  },
  {
   "cell_type": "code",
   "execution_count": 6,
   "id": "b39e76d5-1ac6-40b4-977c-d4d3ba5dd8dd",
   "metadata": {},
   "outputs": [
    {
     "data": {
      "text/plain": [
       "'l'"
      ]
     },
     "execution_count": 6,
     "metadata": {},
     "output_type": "execute_result"
    }
   ],
   "source": [
    "word[2]"
   ]
  },
  {
   "cell_type": "markdown",
   "id": "20b9b5fe-1374-48f5-b2f6-ca44b75a4285",
   "metadata": {},
   "source": [
    "We can also use variables in indexing."
   ]
  },
  {
   "cell_type": "code",
   "execution_count": 10,
   "id": "7d7e3239-bda2-4cf8-a927-ca7ab5c2fbf2",
   "metadata": {},
   "outputs": [
    {
     "data": {
      "text/plain": [
       "'l'"
      ]
     },
     "execution_count": 10,
     "metadata": {},
     "output_type": "execute_result"
    }
   ],
   "source": [
    "where = 2\n",
    "word[where]"
   ]
  },
  {
   "cell_type": "markdown",
   "id": "c9f22627-7b4d-48c8-83f1-64f5a0a4e72b",
   "metadata": {},
   "source": [
    "Negative indexes refers to the rightmost characters in a string"
   ]
  },
  {
   "cell_type": "code",
   "execution_count": 11,
   "id": "c17458fd-fc19-4020-aba7-71f660ccb041",
   "metadata": {},
   "outputs": [
    {
     "data": {
      "text/plain": [
       "'e'"
      ]
     },
     "execution_count": 11,
     "metadata": {},
     "output_type": "execute_result"
    }
   ],
   "source": [
    "word[-1]"
   ]
  },
  {
   "cell_type": "code",
   "execution_count": 12,
   "id": "cee2acbb-f737-4ea0-873b-cdc9c95b93ed",
   "metadata": {},
   "outputs": [
    {
     "data": {
      "text/plain": [
       "'r'"
      ]
     },
     "execution_count": 12,
     "metadata": {},
     "output_type": "execute_result"
    }
   ],
   "source": [
    "word[-2]"
   ]
  },
  {
   "cell_type": "code",
   "execution_count": 15,
   "id": "573895e9-ec8b-4a07-ba42-2668bd9df6a1",
   "metadata": {},
   "outputs": [
    {
     "data": {
      "text/plain": [
       "'e'"
      ]
     },
     "execution_count": 15,
     "metadata": {},
     "output_type": "execute_result"
    }
   ],
   "source": [
    "word[len(word)-1]"
   ]
  },
  {
   "cell_type": "markdown",
   "id": "8a90d4a7-f746-44f7-968c-c2eec2e0867d",
   "metadata": {},
   "source": [
    "**Concept Check**\n",
    "\n",
    "What is the output of the following code?"
   ]
  },
  {
   "cell_type": "code",
   "execution_count": 16,
   "id": "c545e937-3b56-489d-a840-c662479736d5",
   "metadata": {},
   "outputs": [
    {
     "name": "stdout",
     "output_type": "stream",
     "text": [
      "aaa\n"
     ]
    }
   ],
   "source": [
    "s = 'abcde'\n",
    "\n",
    "t = s[0] + s[-5] + s[len(s)-5]\n",
    "\n",
    "print(t)"
   ]
  },
  {
   "cell_type": "markdown",
   "id": "8ad26751-6d03-4105-a773-10607cea4dab",
   "metadata": {},
   "source": [
    "#### Range for loops\n",
    "\n",
    "Python's range function generates ranges of integers, and we can use those ranges to control for loops! Instead of having to loop through the characters of a string, a range for loop loops through integers."
   ]
  },
  {
   "cell_type": "code",
   "execution_count": 17,
   "id": "24dd2043-48cf-4c3f-a7b7-52326a2d6c26",
   "metadata": {},
   "outputs": [
    {
     "name": "stdout",
     "output_type": "stream",
     "text": [
      "0\n",
      "1\n",
      "2\n",
      "3\n",
      "4\n"
     ]
    }
   ],
   "source": [
    "for num in range(5):\n",
    "    print(num)"
   ]
  },
  {
   "cell_type": "code",
   "execution_count": 18,
   "id": "d4522e8f-9361-48b3-b5fa-30917c184dbb",
   "metadata": {},
   "outputs": [
    {
     "name": "stdout",
     "output_type": "stream",
     "text": [
      "3\n",
      "4\n",
      "5\n",
      "6\n"
     ]
    }
   ],
   "source": [
    "for num in range(3,7):\n",
    "    print(num)"
   ]
  },
  {
   "cell_type": "markdown",
   "id": "88a5c98a-857b-4cea-9bfe-be84e7199f56",
   "metadata": {},
   "source": [
    "The following arguments gets the sequence of the first value up to but not including the second argument. \n",
    "\n",
    "The next cell will now include the third argument which is the step size. This counts up by whatever value z is used in the argument."
   ]
  },
  {
   "cell_type": "code",
   "execution_count": 20,
   "id": "3d01ea60-5c5f-4e42-ac82-f1c005a23f55",
   "metadata": {},
   "outputs": [
    {
     "name": "stdout",
     "output_type": "stream",
     "text": [
      "0\n",
      "2\n",
      "4\n",
      "6\n",
      "8\n"
     ]
    }
   ],
   "source": [
    "for num in range(0,10,2):\n",
    "    print(num)"
   ]
  },
  {
   "cell_type": "markdown",
   "id": "db8994bc-9213-41eb-95c6-493fdccf1e90",
   "metadata": {},
   "source": [
    "#### Range for Loops Through Indices"
   ]
  },
  {
   "cell_type": "code",
   "execution_count": 21,
   "id": "64f07931-c285-439c-95a5-429e81303f0e",
   "metadata": {},
   "outputs": [
    {
     "name": "stdout",
     "output_type": "stream",
     "text": [
      "C .\n",
      "C C\n",
      ". .\n"
     ]
    }
   ],
   "source": [
    "yesterday = 'CC.'\n",
    "today = '.C.'\n",
    "\n",
    "for index in range(len(yesterday)):\n",
    "    print(yesterday[index], today[index])"
   ]
  },
  {
   "attachments": {
    "fbd44da6-8296-47ee-8f12-8c525a8f6df7.png": {
     "image/png": "[encoded data removed]"
    }
   },
   "cell_type": "markdown",
   "id": "dc5cff5c-5320-4aa4-bad5-f9cde26f3cc9",
   "metadata": {},
   "source": [
    "#### Problem Solving: Occupied Spaces\r\n",
    "\r\n",
    "**DMOJ Problem ccc18j2**\r\n",
    "\r\n",
    "You supervise a small parking lot which has N parking spaces. Yesterday, you recorded which parking spaces were occupied by cars and which were empty. Today, you recorded the same information. How many of the parking spaces were occupied both yesterday and today?\r\n",
    "\r\n",
    "![image.png](attachment:fbd44da6-8296-47ee-8f12-8c525a8f6df7.png)\r\n",
    "\r\n",
    "**Output Specification**\r\n",
    "\r\n",
    "Output the number of parking spaces which were occupied yesterday and today.\r\n",
    " and today.\r\n",
    "cation**"
   ]
  },
  {
   "cell_type": "code",
   "execution_count": 25,
   "id": "0c7f466a-121a-4690-ace0-865d5cb40a61",
   "metadata": {},
   "outputs": [
    {
     "name": "stdin",
     "output_type": "stream",
     "text": [
      " 10\n",
      " CCC...\n",
      " C....\n"
     ]
    },
    {
     "name": "stdout",
     "output_type": "stream",
     "text": [
      "1\n"
     ]
    }
   ],
   "source": [
    "n = int(input())\n",
    "yesterday = input()\n",
    "today = input()\n",
    "\n",
    "occupied = 0\n",
    "\n",
    "for i in range(len(yesterday)):\n",
    "    if yesterday[i] == 'C' and today[i] == 'C':\n",
    "         occupied = occupied + 1\n",
    "\n",
    "print(occupied)"
   ]
  },
  {
   "cell_type": "markdown",
   "id": "21d859ea-6878-4ae2-a670-c900084e8eb5",
   "metadata": {},
   "source": [
    "#### Looping to Read Input\n",
    "\n",
    "In the recent lines of code, we have so far dealt with already made strings stored in a variable. So we intuitively create loops meant for a specific number of characters. However, we should also be able to create a program that is able to read multiple lines. "
   ]
  },
  {
   "cell_type": "code",
   "execution_count": 4,
   "id": "35398b5a-dc0a-4519-bd80-487a0980f237",
   "metadata": {},
   "outputs": [
    {
     "name": "stdin",
     "output_type": "stream",
     "text": [
      " 10000\n",
      " 5\n",
      " 2345\n",
      " 12\n",
      " 12\n",
      " 1\n",
      " 212\n"
     ]
    },
    {
     "name": "stdout",
     "output_type": "stream",
     "text": [
      "57418\n"
     ]
    }
   ],
   "source": [
    "monthly_mb = int(input())\n",
    "n = int(input())\n",
    "\n",
    "excess = 0\n",
    "\n",
    "for i in range(n):\n",
    "    used = int(input())\n",
    "    excess = excess + monthly_mb - used\n",
    "print(excess + monthly_mb)"
   ]
  },
  {
   "cell_type": "markdown",
   "id": "45031fb5-d2d5-4a73-8507-db43bd9ff476",
   "metadata": {},
   "source": [
    "#### Summary\n",
    "\n",
    "The chapter tackled the use and the idea of for loops. A standard for loops loop through the characters of a string; the range for loop loop through the integers in a range, The for loop is the loop of choice when we need to repeat a code for a specified number of times."
   ]
  },
  {
   "cell_type": "markdown",
   "id": "bce48932-641a-40fb-b12a-5e26214d5c52",
   "metadata": {},
   "source": [
    "### Additional DMOJ PROBLEMS:"
   ]
  },
  {
   "cell_type": "code",
   "execution_count": null,
   "id": "44368ad9-05fa-464f-94b4-a19f4183d360",
   "metadata": {},
   "outputs": [],
   "source": []
  }
 ],
 "metadata": {
  "kernelspec": {
   "display_name": "Python 3 (ipykernel)",
   "language": "python",
   "name": "python3"
  },
  "language_info": {
   "codemirror_mode": {
    "name": "ipython",
    "version": 3
   },
   "file_extension": ".py",
   "mimetype": "text/x-python",
   "name": "python",
   "nbconvert_exporter": "python",
   "pygments_lexer": "ipython3",
   "version": "3.11.7"
  }
 },
 "nbformat": 4,
 "nbformat_minor": 5
}

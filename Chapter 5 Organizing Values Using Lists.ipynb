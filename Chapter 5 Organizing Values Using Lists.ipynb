{
 "cells": [
  {
   "cell_type": "markdown",
   "id": "9884a3fc-afd6-45b4-9553-7e2e2aedb3c7",
   "metadata": {},
   "source": [
    "# Learn to Code by Solving Problems\r\n",
    "## Chapter 5: Organizing Values Using Lists - Notes, Codes, Solutions, and Extensions on the Topic\r\n",
    "\r\n",
    "*By Artyom Mikoyan (Faustine)* | *May 2024*\r\n"
   ]
  },
  {
   "cell_type": "markdown",
   "id": "861905e6-7b73-427f-b19d-bcfbc972bbaa",
   "metadata": {},
   "source": [
    "### Introduction\n",
    "\n",
    "We can use strings to work with a sequence of characters. Learning about lists helps us work with sequences of other types of values, such as integers and floats. We may also nest lists inside of lists, which allows for work on data grids.\n",
    "\n",
    "There are three main problems in this notebook that we will use lists on:\n",
    "\n",
    "1. Finding the smallest neighborhood of collection of villages.\n",
    "2. Determining whether sufficient money has been raised for a school trip.\n",
    "3. Calculating the number of bonuses offered by a bakery."
   ]
  },
  {
   "cell_type": "markdown",
   "id": "a1a0b4bb-4c1e-47bc-9de6-8709eae347b7",
   "metadata": {},
   "source": [
    "### Why Lists?\n",
    "\n",
    "In a recent problem solved in a different notebook, the Data Plan Problem, we took an input of an integer to be used as a range for loop to loop through n times. However, the used value was later on discarded and was never stored nor looked at again. In the Neighborhood problem, however, it is not enough to just use and see this value, the integer, just once. A neighborhood depends on its left and right neighbors. Without access to those valaues we cannot calculate the size of the village. Sotring them all, the village positions, is important for later use."
   ]
  },
  {
   "cell_type": "markdown",
   "id": "ce2cb545-dc69-40da-b1d4-3036dd907ab2",
   "metadata": {},
   "source": [
    "### Lists\n",
    "\n",
    "- A *list* is a Python type that contains a sequence of values. We use an opening and closing brackets to delimit a list. \n",
    "- We can only store characters in strings, but we can store any type of value in list. The list of integers holds the vliiage position from the prior examples."
   ]
  },
  {
   "cell_type": "code",
   "execution_count": 16,
   "id": "dad7abb6-08a6-4906-bf20-8395720b01b7",
   "metadata": {},
   "outputs": [
    {
     "data": {
      "text/plain": [
       "[20, 50, 4, 19, 15, 1]"
      ]
     },
     "execution_count": 16,
     "metadata": {},
     "output_type": "execute_result"
    }
   ],
   "source": [
    "[20,50,4,19,15,1]"
   ]
  },
  {
   "cell_type": "code",
   "execution_count": 18,
   "id": "4fa1f866-ab33-4e9f-b5f1-4000bf047dfd",
   "metadata": {},
   "outputs": [
    {
     "data": {
      "text/plain": [
       "['one', 1, 50.23]"
      ]
     },
     "execution_count": 18,
     "metadata": {},
     "output_type": "execute_result"
    }
   ],
   "source": [
    "['one',1,50.23]"
   ]
  },
  {
   "cell_type": "markdown",
   "id": "8678fed6-90d2-4593-a798-c23e7323ad4d",
   "metadata": {},
   "source": [
    "The same operations found in strings is  also applicable with lists. For example, lists support the + operator for concatenation and the * operator for replication."
   ]
  },
  {
   "cell_type": "code",
   "execution_count": 21,
   "id": "1c5f3942-e8a9-4279-9899-9b28dc0794f1",
   "metadata": {},
   "outputs": [
    {
     "data": {
      "text/plain": [
       "[1, 2, 3, 1, 2, 3]"
      ]
     },
     "execution_count": 21,
     "metadata": {},
     "output_type": "execute_result"
    }
   ],
   "source": [
    "[1,2,3] + [1,2,3]"
   ]
  },
  {
   "cell_type": "code",
   "execution_count": 23,
   "id": "680e7514-4d88-4b06-9b47-df9f2140849d",
   "metadata": {},
   "outputs": [
    {
     "data": {
      "text/plain": [
       "[1, 2, 3, 1, 2, 3, 1, 2, 3, 1, 2, 3]"
      ]
     },
     "execution_count": 23,
     "metadata": {},
     "output_type": "execute_result"
    }
   ],
   "source": [
    "[1,2,3] * 4"
   ]
  },
  {
   "cell_type": "markdown",
   "id": "08f1f221-e0d5-4673-9944-6318ad139e41",
   "metadata": {},
   "source": [
    "We also have the _**in**_ operator."
   ]
  },
  {
   "cell_type": "code",
   "execution_count": 26,
   "id": "02f983ea-9430-448f-8441-2f7dec6c581f",
   "metadata": {},
   "outputs": [
    {
     "data": {
      "text/plain": [
       "True"
      ]
     },
     "execution_count": 26,
     "metadata": {},
     "output_type": "execute_result"
    }
   ],
   "source": [
    "'one' in ['one', 'two', 'three']"
   ]
  },
  {
   "cell_type": "code",
   "execution_count": 34,
   "id": "8ba7605f-a69b-42fd-a5df-219c85f0ffef",
   "metadata": {},
   "outputs": [
    {
     "name": "stdout",
     "output_type": "stream",
     "text": [
      "1\n",
      "2\n",
      "3\n",
      "4\n",
      "5\n",
      "6\n"
     ]
    }
   ],
   "source": [
    "for value in [1,2,3,4,5,6]:\n",
    "    print(value)"
   ]
  },
  {
   "cell_type": "markdown",
   "id": "7d2820d9-7f94-4b19-bd00-f8c88c792304",
   "metadata": {},
   "source": [
    "We can also make variables refer to list."
   ]
  },
  {
   "cell_type": "code",
   "execution_count": 37,
   "id": "e7250465-0e0f-48dc-a095-f702ed0b0a4b",
   "metadata": {},
   "outputs": [
    {
     "data": {
      "text/plain": [
       "[1, 2, 3, 4, 5, 6]"
      ]
     },
     "execution_count": 37,
     "metadata": {},
     "output_type": "execute_result"
    }
   ],
   "source": [
    "list1 = [1,2,3]\n",
    "list2 = [4,5,6]\n",
    "\n",
    "list1 + list2"
   ]
  },
  {
   "cell_type": "code",
   "execution_count": 39,
   "id": "af57e4f8-2f85-488f-bd6d-55087b746ada",
   "metadata": {},
   "outputs": [
    {
     "data": {
      "text/plain": [
       "[1, 2, 3, 4, 5, 6]"
      ]
     },
     "execution_count": 39,
     "metadata": {},
     "output_type": "execute_result"
    }
   ],
   "source": [
    "list3 = list1 + list2\n",
    "list3"
   ]
  },
  {
   "cell_type": "markdown",
   "id": "5c7a58b7-e9e5-4f8e-8fd5-3aa80e307f13",
   "metadata": {},
   "source": [
    "We also have function called \"list\" to convert a sequence into a list."
   ]
  },
  {
   "cell_type": "code",
   "execution_count": 42,
   "id": "558c1079-bef6-498a-8f28-4ebc1f81f2bc",
   "metadata": {},
   "outputs": [
    {
     "data": {
      "text/plain": [
       "['a', 'b', 'c', 'd', 'e']"
      ]
     },
     "execution_count": 42,
     "metadata": {},
     "output_type": "execute_result"
    }
   ],
   "source": [
    "list('abcde')"
   ]
  },
  {
   "cell_type": "markdown",
   "id": "482924d2-e0c3-49ab-884c-295d85500b4b",
   "metadata": {},
   "source": [
    "Lists also supports indexing and slicing. Indexing returns a single value, and slicing returns a list of value."
   ]
  },
  {
   "cell_type": "code",
   "execution_count": 3,
   "id": "a495e477-0b24-4052-948c-d14c317059b4",
   "metadata": {},
   "outputs": [
    {
     "data": {
      "text/plain": [
       "30"
      ]
     },
     "execution_count": 3,
     "metadata": {},
     "output_type": "execute_result"
    }
   ],
   "source": [
    "lst = [50,30,81,41]\n",
    "lst[1]"
   ]
  },
  {
   "cell_type": "code",
   "execution_count": 9,
   "id": "abfb3cae-88c4-4b91-92c1-7c80d7079586",
   "metadata": {},
   "outputs": [
    {
     "data": {
      "text/plain": [
       "[30, 81]"
      ]
     },
     "execution_count": 9,
     "metadata": {},
     "output_type": "execute_result"
    }
   ],
   "source": [
    "lst = [50,30,81,41]\n",
    "lst[1:3]"
   ]
  },
  {
   "cell_type": "code",
   "execution_count": 13,
   "id": "9983831d-c39c-43e7-967e-a7eedb55df6a",
   "metadata": {},
   "outputs": [
    {
     "data": {
      "text/plain": [
       "'e'"
      ]
     },
     "execution_count": 13,
     "metadata": {},
     "output_type": "execute_result"
    }
   ],
   "source": [
    "lst = ['one','two','hello']\n",
    "\n",
    "lst[2][1] #taking the 2nd index value of the list, and taking the first index value of that string within that list."
   ]
  },
  {
   "cell_type": "markdown",
   "id": "6407689e-f801-41d3-805d-f92c6a8d379c",
   "metadata": {},
   "source": [
    "### List Mutability\n",
    "\n",
    "Strings are immutable, meaning they cannot be further modified. Lists are, however, are mutable. They can be modified."
   ]
  },
  {
   "cell_type": "code",
   "execution_count": 36,
   "id": "76724311-cefe-49db-93a2-8037585fe537",
   "metadata": {},
   "outputs": [
    {
     "name": "stdout",
     "output_type": "stream",
     "text": [
      "['H', 'e', 'l', 'l', 'o']\n",
      "H\n",
      "['H', 'e', 'x', 'l', 'o']\n"
     ]
    }
   ],
   "source": [
    "lst = list('Hello')\n",
    "\n",
    "print(lst)\n",
    "print(lst[0])\n",
    "\n",
    "lst[2] = 'x'\n",
    "print(lst)"
   ]
  },
  {
   "cell_type": "markdown",
   "id": "7b0a4b8a-5ddb-4a5a-b57f-34de94bc7a5e",
   "metadata": {},
   "source": [
    "But without precise understanding of a the assignment statment, mutability can often lead to errors or bewildering behavior of a list."
   ]
  },
  {
   "cell_type": "code",
   "execution_count": 51,
   "id": "6cd45263-462d-4164-b2b4-0b001bec8e62",
   "metadata": {},
   "outputs": [
    {
     "name": "stdout",
     "output_type": "stream",
     "text": [
      "[99, '2', '3', '4', '5']\n",
      "[99, '2', '3', '4', '5']\n"
     ]
    }
   ],
   "source": [
    "x = list('12345')\n",
    "\n",
    "y = x\n",
    "x[0] = 99\n",
    "\n",
    "print(x) ## results here has no surprises yet\n",
    "\n",
    "print(y)"
   ]
  },
  {
   "cell_type": "markdown",
   "id": "602455aa-aad8-4def-9d42-76fd6e713a56",
   "metadata": {},
   "source": [
    "How did y turn into that? When we assign x to y, y is set to refer the same list as x. The assignment statement does not copy the list. There is only one list, and it happens to have two names that refer to it. \n",
    "\n",
    "- Mutability allows for changing one value\n",
    "- We don't have to create a new list\n",
    "\n",
    "However, if you do really want to copy a list, not just another name for it, we can make use of slicing."
   ]
  },
  {
   "cell_type": "code",
   "execution_count": 59,
   "id": "83debb72-ae91-4574-9f60-eb8a1aa73b6f",
   "metadata": {},
   "outputs": [
    {
     "name": "stdout",
     "output_type": "stream",
     "text": [
      "[99, '2', '3', '4', '5']\n",
      "['1', '2', '3', '4', '5']\n"
     ]
    }
   ],
   "source": [
    "x = list('12345')\n",
    "\n",
    "y = x[:]\n",
    "\n",
    "x[0] = 99\n",
    "\n",
    "print(x)\n",
    "print(y)"
   ]
  },
  {
   "cell_type": "markdown",
   "id": "373446b2-51ab-46db-b7c7-7f0337ed0d0a",
   "metadata": {},
   "source": [
    "Here, we are able to retain the original value of list x onto y without having to jeopardize the elements that is in y after we copied it."
   ]
  },
  {
   "cell_type": "markdown",
   "id": "b61e4e91-8c54-4af8-a7c1-c1ec82792336",
   "metadata": {},
   "source": [
    "### Adding to a list\n",
    "\n",
    "The append method appends to a list."
   ]
  },
  {
   "cell_type": "code",
   "execution_count": 70,
   "id": "a9a7f4df-f9eb-4ea9-9ef9-bb4566415dfa",
   "metadata": {},
   "outputs": [
    {
     "data": {
      "text/plain": [
       "[20, 50, 4]"
      ]
     },
     "execution_count": 70,
     "metadata": {},
     "output_type": "execute_result"
    }
   ],
   "source": [
    "positions = []\n",
    "positions.append(20)\n",
    "positions.append(50)\n",
    "positions.append(4)\n",
    "\n",
    "positions"
   ]
  },
  {
   "cell_type": "markdown",
   "id": "3f2e7d60-ca3b-4d83-b95a-ef2272a22bc0",
   "metadata": {},
   "source": [
    "Appending a variable which was used to store these previous append methods lead to an output result of None. The None value conveys that no information is present! So try your best to avoid something like this:"
   ]
  },
  {
   "cell_type": "markdown",
   "id": "f160a4e4-f4bb-452c-8a2c-d36bd780e1a2",
   "metadata": {},
   "source": [
    "position = positions.append(19)\n",
    "print(position)"
   ]
  },
  {
   "cell_type": "markdown",
   "id": "2536b246-007c-487b-a9aa-3f010083e971",
   "metadata": {},
   "source": [
    "Another method is the extend method, which allows to concatenate a list to the end of an existing list."
   ]
  },
  {
   "cell_type": "code",
   "execution_count": 87,
   "id": "722b5b65-fe5b-4ad2-bffb-5614e2f801e0",
   "metadata": {},
   "outputs": [
    {
     "name": "stdout",
     "output_type": "stream",
     "text": [
      "['1', '2', '3', '4', '5', '6']\n",
      "['4', '5', '6']\n"
     ]
    }
   ],
   "source": [
    "list1 = list('123')\n",
    "list2 = list('456')\n",
    "\n",
    "list1.extend(list2)\n",
    "print(list1)\n",
    "print(list2)\n"
   ]
  },
  {
   "cell_type": "markdown",
   "id": "02aa65ea-b474-42df-b9ab-188089dec3a7",
   "metadata": {},
   "source": [
    "### DMOJ PROBLEM"
   ]
  },
  {
   "attachments": {
    "36c3006d-4dac-48e3-8346-d74d69f35a0b.png": {
     "image/png": "[encoded data removed]"
    }
   },
   "cell_type": "markdown",
   "id": "4623cfa6-c2be-4e11-a2ae-7618bdc8ae30",
   "metadata": {},
   "source": [
    "![image.png](attachment:36c3006d-4dac-48e3-8346-d74d69f35a0b.png)"
   ]
  },
  {
   "cell_type": "code",
   "execution_count": null,
   "id": "0e0f4310-91ea-4611-830e-a65655c19f98",
   "metadata": {},
   "outputs": [],
   "source": [
    "n = int(input())\n",
    "\n",
    "positions = []\n",
    "\n",
    "for i in range(n):\n",
    "    positions.append(int(input()))\n",
    "\n",
    "positions.sort\n",
    "\n",
    "left = (positions[1] - positions[0]) / 2\n",
    "right = (positions[2] - positions[1]) / 2\n",
    "min_size = left + right\n",
    "\n",
    "for i in range(2,n-1):\n",
    "    left = (positions[i] - positions[i-1])/2\n",
    "    right = (positions[i+1] - positions[i])/2\n",
    "    size = left + right\n",
    "    if size < min_size:\n",
    "        min_size = size\n",
    "\n",
    "print(min_size)"
   ]
  },
  {
   "attachments": {
    "072d8508-623e-49f9-b4a8-8c6eceee4318.png": {
     "image/png": "[encoded data removed]"
    }
   },
   "cell_type": "markdown",
   "id": "b1baeafa-ade1-4a97-ab0c-1badbf627eb5",
   "metadata": {},
   "source": [
    "![Untitled.png](attachment:072d8508-623e-49f9-b4a8-8c6eceee4318.png)"
   ]
  },
  {
   "cell_type": "markdown",
   "id": "37005404-d261-4788-ad3f-764f7dc59577",
   "metadata": {},
   "source": [
    "The prior code contains duplicates both prior to and in the second range for loop. We, in general, try to avoid this. One way of writing a general solution to the problem can be done so by using a huge size."
   ]
  },
  {
   "cell_type": "code",
   "execution_count": null,
   "id": "ad11dd31-027c-48d7-9c30-c13e832b1a46",
   "metadata": {},
   "outputs": [],
   "source": [
    "n = int(input())\n",
    "\n",
    "positions= []\n",
    "\n",
    "for i in range(n):\n",
    "    positions.append(int(input()))\n",
    "\n",
    "positions.sort\n",
    "\n",
    "min_size =  1000000.0\n",
    "\n",
    "for i in range(1,n-1):\n",
    "    left = (positions[i] - positions[i-1])/2\n",
    "    right = (positions[i+1] - positions[i])/2\n",
    "    size = left + right\n",
    "    if size < min_size:\n",
    "        min_size = size\n",
    "    "
   ]
  },
  {
   "cell_type": "markdown",
   "id": "98177472-01bb-43a0-a2db-65d32dd84aef",
   "metadata": {},
   "source": [
    "### Building a List of Sizes"
   ]
  },
  {
   "cell_type": "code",
   "execution_count": 9,
   "id": "b4f28a9c-cebd-42ce-90b7-688de66313df",
   "metadata": {},
   "outputs": [
    {
     "data": {
      "text/plain": [
       "'e'"
      ]
     },
     "execution_count": 9,
     "metadata": {},
     "output_type": "execute_result"
    }
   ],
   "source": [
    "min('qwerty')"
   ]
  },
  {
   "cell_type": "code",
   "execution_count": 11,
   "id": "93111e31-6a1f-4dad-a956-6a360ce707db",
   "metadata": {},
   "outputs": [
    {
     "data": {
      "text/plain": [
       "1.5"
      ]
     },
     "execution_count": 11,
     "metadata": {},
     "output_type": "execute_result"
    }
   ],
   "source": [
    "min([15.5,7.0,1.5,7.5])"
   ]
  },
  {
   "cell_type": "markdown",
   "id": "648c141d-3227-431f-9321-b49b82912e9f",
   "metadata": {},
   "source": [
    "### Splitting a String into a List\n",
    "\n",
    "The split method splits a string into a list of its pieces. By default it split splits around spaces."
   ]
  },
  {
   "cell_type": "code",
   "execution_count": 33,
   "id": "0ea2940d-8f48-4303-bead-123d2172b1fe",
   "metadata": {},
   "outputs": [
    {
     "data": {
      "text/plain": [
       "['0.2', '0.08', '0.4', '0.32']"
      ]
     },
     "execution_count": 33,
     "metadata": {},
     "output_type": "execute_result"
    }
   ],
   "source": [
    "s = '0.2 0.08 0.4 0.32'\n",
    "\n",
    "s.split()"
   ]
  },
  {
   "cell_type": "code",
   "execution_count": 10,
   "id": "8c4fb8e9-593f-423d-9259-078ea8926d31",
   "metadata": {},
   "outputs": [
    {
     "data": {
      "text/plain": [
       "'0.08'"
      ]
     },
     "execution_count": 10,
     "metadata": {},
     "output_type": "execute_result"
    }
   ],
   "source": [
    "proportions = s.split()\n",
    "proportions[1]"
   ]
  },
  {
   "cell_type": "code",
   "execution_count": 12,
   "id": "d0d8163e-f14a-4c56-8f92-f869561b0a28",
   "metadata": {},
   "outputs": [
    {
     "data": {
      "text/plain": [
       "['Toronto', 'Ontario', 'Canada']"
      ]
     },
     "execution_count": 12,
     "metadata": {},
     "output_type": "execute_result"
    }
   ],
   "source": [
    "info = 'Toronto,Ontario,Canada'\n",
    "\n",
    "info.split(',')"
   ]
  },
  {
   "cell_type": "markdown",
   "id": "4940491d-6223-4d12-a8ca-9eac30739d0f",
   "metadata": {},
   "source": [
    "### Joining a List Into a String\n",
    "\n",
    "From a list to a string, rather than a stirng to a list, we can use the string join method. This is used as the separator between list values."
   ]
  },
  {
   "cell_type": "code",
   "execution_count": 17,
   "id": "209067d4-0846-4d24-afbd-d1e5e81b39e3",
   "metadata": {},
   "outputs": [
    {
     "data": {
      "text/plain": [
       "['Toronto', 'Ontario', 'Canada']"
      ]
     },
     "execution_count": 17,
     "metadata": {},
     "output_type": "execute_result"
    }
   ],
   "source": [
    "lst = info.split(',')\n",
    "lst"
   ]
  },
  {
   "cell_type": "code",
   "execution_count": 19,
   "id": "0264acc5-117c-4b6d-9382-01b56187acea",
   "metadata": {},
   "outputs": [
    {
     "data": {
      "text/plain": [
       "'Toronto,Ontario,Canada'"
      ]
     },
     "execution_count": 19,
     "metadata": {},
     "output_type": "execute_result"
    }
   ],
   "source": [
    "','.join(lst)"
   ]
  },
  {
   "cell_type": "code",
   "execution_count": 22,
   "id": "59143b66-ea0a-41a5-92b0-2a9c8c6147cf",
   "metadata": {},
   "outputs": [
    {
     "data": {
      "text/plain": [
       "'Toronto**Ontario**Canada'"
      ]
     },
     "execution_count": 22,
     "metadata": {},
     "output_type": "execute_result"
    }
   ],
   "source": [
    "'**'.join(lst)"
   ]
  },
  {
   "cell_type": "code",
   "execution_count": 24,
   "id": "95be7bac-c506-442b-b999-3d53f4178a3c",
   "metadata": {},
   "outputs": [
    {
     "data": {
      "text/plain": [
       "'Toronto Ontario Canada'"
      ]
     },
     "execution_count": 24,
     "metadata": {},
     "output_type": "execute_result"
    }
   ],
   "source": [
    "' '.join(lst) ### just using space"
   ]
  },
  {
   "cell_type": "markdown",
   "id": "6c7ae7be-44c8-4d89-96c1-fce4afc07a6c",
   "metadata": {},
   "source": [
    "### Changing List Values"
   ]
  },
  {
   "cell_type": "code",
   "execution_count": 35,
   "id": "2d2d2ec2-d632-4166-8539-c72c6b446962",
   "metadata": {},
   "outputs": [
    {
     "data": {
      "text/plain": [
       "'0.2 0.08 0.4 0.32'"
      ]
     },
     "execution_count": 35,
     "metadata": {},
     "output_type": "execute_result"
    }
   ],
   "source": [
    "s"
   ]
  },
  {
   "cell_type": "code",
   "execution_count": 45,
   "id": "caa6412a-ea39-4450-bab2-36e035f96af8",
   "metadata": {},
   "outputs": [],
   "source": [
    "proportions = s.split()"
   ]
  },
  {
   "cell_type": "code",
   "execution_count": 51,
   "id": "55cae69c-ce91-4e8b-bcf9-ae894c208b60",
   "metadata": {},
   "outputs": [],
   "source": [
    "for value in proportions:\n",
    "    value = float(value)\n",
    "    type(value)"
   ]
  },
  {
   "cell_type": "markdown",
   "id": "b0cf4957-a404-4c0d-b0fa-4124427cf7bd",
   "metadata": {},
   "source": [
    "We are changing what the variable refers to, but that does not change the fact that the list refers to the old string values."
   ]
  },
  {
   "cell_type": "code",
   "execution_count": 109,
   "id": "6c89367c-029a-41a9-9181-7d9b2f839ef7",
   "metadata": {},
   "outputs": [],
   "source": [
    "proportions\n",
    "\n",
    "for i in range(len(proportions)):\n",
    "    proportions[i] = float(proportions[i])"
   ]
  },
  {
   "cell_type": "markdown",
   "id": "2cf74595-ce14-49c8-af66-500f044ccc8d",
   "metadata": {},
   "source": [
    "In the cell below, we assign new values at the list's indices. The range for loop loops through index, and an assignment changes what is referred to by that index."
   ]
  },
  {
   "cell_type": "code",
   "execution_count": 111,
   "id": "fb997484-d447-4547-a3ff-3c7fa241266d",
   "metadata": {},
   "outputs": [
    {
     "data": {
      "text/plain": [
       "[200.1, 300.2, 55.2, 29.3]"
      ]
     },
     "execution_count": 111,
     "metadata": {},
     "output_type": "execute_result"
    }
   ],
   "source": [
    "p = '200.1 300.2 55.2 29.3'\n",
    "\n",
    "cost = p.split()\n",
    "\n",
    "\n",
    "for i in range(len(cost)):\n",
    "    cost[i] = float(cost[i])\n",
    "\n",
    "cost"
   ]
  },
  {
   "cell_type": "code",
   "execution_count": null,
   "id": "768ddb1f-b7e8-4c3f-936b-b2fc360fe4bc",
   "metadata": {},
   "outputs": [],
   "source": []
  },
  {
   "cell_type": "code",
   "execution_count": null,
   "id": "95bfc529-1375-471a-a97f-f7f3289ad744",
   "metadata": {},
   "outputs": [],
   "source": []
  }
 ],
 "metadata": {
  "kernelspec": {
   "display_name": "Python 3 (ipykernel)",
   "language": "python",
   "name": "python3"
  },
  "language_info": {
   "codemirror_mode": {
    "name": "ipython",
    "version": 3
   },
   "file_extension": ".py",
   "mimetype": "text/x-python",
   "name": "python",
   "nbconvert_exporter": "python",
   "pygments_lexer": "ipython3",
   "version": "3.11.7"
  }
 },
 "nbformat": 4,
 "nbformat_minor": 5
}
